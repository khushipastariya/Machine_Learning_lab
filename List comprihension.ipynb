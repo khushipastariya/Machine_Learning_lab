# Machine_Learning_lab
1. print square of natural number (1,10)

l=[x**2 for x in range(1,11)]
print(l)
[1, 4, 9, 16, 25, 36, 49, 64, 81, 100]
2. count number of 6 beteen 1-1000

l=[x for x in range(1,1000) if "6" in str(x)]
print(len(l))
271
3. count number of spaces in string

st="am it  pat el"
li=[1 for i in range(len(st)) if st[i]==" "]
print(len(li))
4
4. write table of 3

l=[x*3 for x in range(1,10+1)]
print(l)
[3, 6, 9, 12, 15, 18, 21, 24, 27, 30]
5 find numbers between 1-1000 divisible by 2 and 5

l=[x for x in range(1,1000) if x%2==0 and x%5==0]
print(len(l))
99
number=11
l=[True for x in range(2,number) if number%x==0 ]
if True not in l:
  print("prime")
else:
  print("not prime")
prime
dictionary

birthday={"jan":0,"feb":0,"mar":0,"apr":0,"may":1,"june":0,"july":0,"aug":0,"sep":0,"oct":0,"nov":0,"dec":0}
while(True):
  mon=input()
  if mon =="":
    break
  else:
    birthday[mon]=birthday[mon]+1

minv=birthday["jan"]
for i in birthday.keys():
  if birthday[i]<minv:
    minv=birthday[i]

maxv=birthday["jan"]
for i in birthday.keys():
  if birthday[i]>maxv:
    maxv=birthday[i]

print(birthday)
print(f"Minimum no of birthday in a month are {minv} ")
print(f"Maximum no of birthday in a month are {maxv} ")
